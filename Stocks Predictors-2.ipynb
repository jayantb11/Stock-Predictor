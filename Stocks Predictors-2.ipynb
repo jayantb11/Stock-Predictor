{
 "cells": [
  {
   "cell_type": "code",
   "execution_count": 75,
   "id": "ec87687b",
   "metadata": {},
   "outputs": [],
   "source": [
    "# import for numerical competition, data manipulation, data visualization, and deep learning\n",
    "import pandas as pd\n",
    "import numpy as np\n",
    "import matplotlib.pyplot as plt\n",
    "from sklearn.preprocessing import MinMaxScaler#change the format into (0,1)\n",
    "from tensorflow.keras.models import Sequential  # Modified import for Keras\n",
    "from tensorflow.keras.layers import Dense, LSTM, Dropout  # Modified import for Keras"
   ]
  },
  {
   "cell_type": "code",
   "execution_count": 76,
   "id": "35af7339",
   "metadata": {},
   "outputs": [
    {
     "data": {
      "text/html": [
       "<div>\n",
       "<style scoped>\n",
       "    .dataframe tbody tr th:only-of-type {\n",
       "        vertical-align: middle;\n",
       "    }\n",
       "\n",
       "    .dataframe tbody tr th {\n",
       "        vertical-align: top;\n",
       "    }\n",
       "\n",
       "    .dataframe thead th {\n",
       "        text-align: right;\n",
       "    }\n",
       "</style>\n",
       "<table border=\"1\" class=\"dataframe\">\n",
       "  <thead>\n",
       "    <tr style=\"text-align: right;\">\n",
       "      <th></th>\n",
       "      <th>Date</th>\n",
       "      <th>Open</th>\n",
       "      <th>High</th>\n",
       "      <th>Low</th>\n",
       "      <th>Close</th>\n",
       "      <th>Volume</th>\n",
       "    </tr>\n",
       "  </thead>\n",
       "  <tbody>\n",
       "    <tr>\n",
       "      <th>0</th>\n",
       "      <td>1/3/2012</td>\n",
       "      <td>325.25</td>\n",
       "      <td>332.83</td>\n",
       "      <td>324.97</td>\n",
       "      <td>663.59</td>\n",
       "      <td>7,380,500</td>\n",
       "    </tr>\n",
       "    <tr>\n",
       "      <th>1</th>\n",
       "      <td>1/4/2012</td>\n",
       "      <td>331.27</td>\n",
       "      <td>333.87</td>\n",
       "      <td>329.08</td>\n",
       "      <td>666.45</td>\n",
       "      <td>5,749,400</td>\n",
       "    </tr>\n",
       "    <tr>\n",
       "      <th>2</th>\n",
       "      <td>1/5/2012</td>\n",
       "      <td>329.83</td>\n",
       "      <td>330.75</td>\n",
       "      <td>326.89</td>\n",
       "      <td>657.21</td>\n",
       "      <td>6,590,300</td>\n",
       "    </tr>\n",
       "    <tr>\n",
       "      <th>3</th>\n",
       "      <td>1/6/2012</td>\n",
       "      <td>328.34</td>\n",
       "      <td>328.77</td>\n",
       "      <td>323.68</td>\n",
       "      <td>648.24</td>\n",
       "      <td>5,405,900</td>\n",
       "    </tr>\n",
       "    <tr>\n",
       "      <th>4</th>\n",
       "      <td>1/9/2012</td>\n",
       "      <td>322.04</td>\n",
       "      <td>322.29</td>\n",
       "      <td>309.46</td>\n",
       "      <td>620.76</td>\n",
       "      <td>11,688,800</td>\n",
       "    </tr>\n",
       "  </tbody>\n",
       "</table>\n",
       "</div>"
      ],
      "text/plain": [
       "       Date    Open    High     Low   Close      Volume\n",
       "0  1/3/2012  325.25  332.83  324.97  663.59   7,380,500\n",
       "1  1/4/2012  331.27  333.87  329.08  666.45   5,749,400\n",
       "2  1/5/2012  329.83  330.75  326.89  657.21   6,590,300\n",
       "3  1/6/2012  328.34  328.77  323.68  648.24   5,405,900\n",
       "4  1/9/2012  322.04  322.29  309.46  620.76  11,688,800"
      ]
     },
     "execution_count": 76,
     "metadata": {},
     "output_type": "execute_result"
    }
   ],
   "source": [
    "#from pandas\n",
    "df =pd.read_csv('/Users/jayant/Downloads/datasetsandcodefilesstockmarketprediction/Google_train_data.csv')\n",
    "df.head()"
   ]
  },
  {
   "cell_type": "code",
   "execution_count": 77,
   "id": "152f6399",
   "metadata": {},
   "outputs": [
    {
     "name": "stdout",
     "output_type": "stream",
     "text": [
      "            value\n",
      "date             \n",
      "2015-01-01      0\n",
      "2015-01-02      1\n",
      "2015-01-03      2\n",
      "2015-01-04      3\n",
      "2015-01-05      4\n",
      "...           ...\n",
      "2018-12-28   1457\n",
      "2018-12-29   1458\n",
      "2018-12-30   1459\n",
      "2018-12-31   1460\n",
      "2019-01-01   1461\n",
      "\n",
      "[1462 rows x 1 columns]\n"
     ]
    }
   ],
   "source": [
    "# Create a DataFrame with matching lengths for 'date' and 'value'\n",
    "df = {'date': pd.date_range(start='2015-01-01', end='2019-01-01'),\n",
    "      'value': range(len(pd.date_range(start='2015-01-01', end='2019-01-01')))}\n",
    "data = pd.DataFrame(df)\n",
    "\n",
    "# Set 'date' as the index for better date-based slicing\n",
    "data.set_index('date', inplace=True)\n",
    "\n",
    "# Define the start and end dates\n",
    "start_date = '2015-01-01'\n",
    "end_date = '2019-01-01'\n",
    "\n",
    "# Select rows based on the date range\n",
    "selected_data = data.loc[start_date:end_date]\n",
    "\n",
    "# Print the selected data\n",
    "print(selected_data)\n"
   ]
  },
  {
   "cell_type": "code",
   "execution_count": 78,
   "id": "ab2b964c",
   "metadata": {},
   "outputs": [
    {
     "name": "stdout",
     "output_type": "stream",
     "text": [
      "[[   0]\n",
      " [   1]\n",
      " [   2]\n",
      " ...\n",
      " [1459]\n",
      " [1460]\n",
      " [1461]]\n"
     ]
    }
   ],
   "source": [
    "df = {'date': pd.date_range(start='2015-01-01', end='2019-01-01'),\n",
    "      'Close': range(len(pd.date_range(start='2015-01-01', end='2019-01-01')))}\n",
    "data = pd.DataFrame(df)\n",
    "\n",
    "# Set 'date' as the index for better date-based slicing\n",
    "data.set_index('date', inplace=True)\n",
    "\n",
    "# Convert 'Close' column to numeric\n",
    "data[\"Close\"] = pd.to_numeric(data[\"Close\"], errors='coerce')\n",
    "\n",
    "# Drop rows with NaN values after conversion\n",
    "data = data.dropna()\n",
    "\n",
    "# Extract the 'Close' column as trainData\n",
    "trainData = data.iloc[:, 0:1].values\n",
    "\n",
    "# Print the selected data\n",
    "print(trainData)"
   ]
  },
  {
   "cell_type": "code",
   "execution_count": 79,
   "id": "068289a7",
   "metadata": {},
   "outputs": [
    {
     "data": {
      "text/plain": [
       "(1462, 1)"
      ]
     },
     "execution_count": 79,
     "metadata": {},
     "output_type": "execute_result"
    }
   ],
   "source": [
    "sc=MinMaxScaler(feature_range=(0,1))\n",
    "trainData=sc.fit_transform(trainData)\n",
    "trainData.shape"
   ]
  },
  {
   "cell_type": "code",
   "execution_count": 80,
   "id": "ad36d99b",
   "metadata": {},
   "outputs": [],
   "source": [
    "X_train=[]\n",
    "y_train=[]\n",
    "#60:timestep // 1149:Lenght of data\n",
    "for i in range (60,1149):\n",
    "    X_train.append(trainData[i-60:i,0])\n",
    "    y_train.append(trainData[i,0])\n",
    "\n",
    "X_train,y_train=np.array(X_train),np.array(y_train)"
   ]
  },
  {
   "cell_type": "code",
   "execution_count": 81,
   "id": "9a6d4b72",
   "metadata": {},
   "outputs": [
    {
     "data": {
      "text/plain": [
       "(1089, 60, 1)"
      ]
     },
     "execution_count": 81,
     "metadata": {},
     "output_type": "execute_result"
    }
   ],
   "source": [
    "X_train=np.reshape(X_train,(X_train.shape[0],X_train.shape[1],1)) #adding the batch_size axis\n",
    "X_train.shape"
   ]
  },
  {
   "cell_type": "code",
   "execution_count": 89,
   "id": "18920407",
   "metadata": {},
   "outputs": [],
   "source": [
    "model=Sequential()\n",
    "\n",
    "model.add(LSTM(units=100,return_sequences=True,input_shape=(X_train.shape[1],1)))\n",
    "model.add(Dropout(0,2))\n",
    "\n",
    "model.add(LSTM(units=100,return_sequences=True))\n",
    "model.add(Dropout(0,2))\n",
    "\n",
    "model.add(LSTM(units=100,return_sequences=True))\n",
    "model.add(Dropout(0,2)) \n",
    "\n",
    "model.add(LSTM(units=100,return_sequences=False))\n",
    "model.add(Dropout(0,2))\n",
    "\n",
    "model.add(Dense(units=1))\n",
    "model.compile(optimizer='adam',loss=\"mean_squared_error\")"
   ]
  },
  {
   "cell_type": "code",
   "execution_count": 90,
   "id": "787cdb28",
   "metadata": {},
   "outputs": [
    {
     "name": "stdout",
     "output_type": "stream",
     "text": [
      "Epoch 1/20\n",
      "35/35 - 5s - loss: 0.0342 - 5s/epoch - 131ms/step\n",
      "Epoch 2/20\n",
      "35/35 - 2s - loss: 0.0011 - 2s/epoch - 62ms/step\n",
      "Epoch 3/20\n",
      "35/35 - 2s - loss: 4.1469e-05 - 2s/epoch - 63ms/step\n",
      "Epoch 4/20\n",
      "35/35 - 2s - loss: 5.0602e-06 - 2s/epoch - 64ms/step\n",
      "Epoch 5/20\n",
      "35/35 - 2s - loss: 3.3024e-06 - 2s/epoch - 65ms/step\n",
      "Epoch 6/20\n",
      "35/35 - 2s - loss: 3.6023e-06 - 2s/epoch - 64ms/step\n",
      "Epoch 7/20\n",
      "35/35 - 2s - loss: 2.5981e-06 - 2s/epoch - 64ms/step\n",
      "Epoch 8/20\n",
      "35/35 - 2s - loss: 2.5042e-06 - 2s/epoch - 64ms/step\n",
      "Epoch 9/20\n",
      "35/35 - 2s - loss: 2.4353e-06 - 2s/epoch - 64ms/step\n",
      "Epoch 10/20\n",
      "35/35 - 2s - loss: 2.6512e-06 - 2s/epoch - 64ms/step\n",
      "Epoch 11/20\n",
      "35/35 - 2s - loss: 2.6606e-06 - 2s/epoch - 64ms/step\n",
      "Epoch 12/20\n",
      "35/35 - 2s - loss: 2.5441e-06 - 2s/epoch - 64ms/step\n",
      "Epoch 13/20\n",
      "35/35 - 2s - loss: 2.3766e-06 - 2s/epoch - 64ms/step\n",
      "Epoch 14/20\n",
      "35/35 - 2s - loss: 2.8271e-06 - 2s/epoch - 65ms/step\n",
      "Epoch 15/20\n",
      "35/35 - 2s - loss: 2.4244e-06 - 2s/epoch - 64ms/step\n",
      "Epoch 16/20\n",
      "35/35 - 2s - loss: 2.7459e-06 - 2s/epoch - 64ms/step\n",
      "Epoch 17/20\n",
      "35/35 - 2s - loss: 2.8348e-06 - 2s/epoch - 65ms/step\n",
      "Epoch 18/20\n",
      "35/35 - 2s - loss: 3.6808e-06 - 2s/epoch - 66ms/step\n",
      "Epoch 19/20\n",
      "35/35 - 2s - loss: 3.5502e-06 - 2s/epoch - 65ms/step\n",
      "Epoch 20/20\n",
      "35/35 - 2s - loss: 2.4608e-06 - 2s/epoch - 67ms/step\n"
     ]
    }
   ],
   "source": [
    "hist =model.fit(X_train,y_train,epochs=20,batch_size=32,verbose=2)"
   ]
  },
  {
   "cell_type": "code",
   "execution_count": 91,
   "id": "0904f62c",
   "metadata": {},
   "outputs": [
    {
     "data": {
      "image/png": "[encoded data removed]",
      "text/plain": [
       "<Figure size 640x480 with 1 Axes>"
      ]
     },
     "metadata": {},
     "output_type": "display_data"
    }
   ],
   "source": [
    "plt.plot(hist.history['loss'])\n",
    "plt.title('Training model loss')\n",
    "plt.ylabel('loss')\n",
    "plt.xlabel('epoch')\n",
    "plt.legend(['train'],loc='upper left')\n",
    "plt.show()"
   ]
  },
  {
   "cell_type": "code",
   "execution_count": 92,
   "id": "d0fcc9f8",
   "metadata": {},
   "outputs": [
    {
     "data": {
      "text/plain": [
       "(192, 60, 1)"
      ]
     },
     "execution_count": 92,
     "metadata": {},
     "output_type": "execute_result"
    }
   ],
   "source": [
    "testData=pd.read_csv('/Users/jayant/Downloads/datasetsandcodefilesstockmarketprediction/Google_test_data.csv')\n",
    "testData['Close']=pd.to_numeric(testData.Close,errors='coerce')\n",
    "testData=testData.dropna()\n",
    "testData=testData.iloc[:,4:5]\n",
    "y_test=testData.iloc[60:,0:].values\n",
    "# input array the model\n",
    "inputClosing=testData.iloc[:,0:].values\n",
    "inputClosing_scaled=sc.transform(inputClosing)\n",
    "inputClosing_scaled.shape\n",
    "X_test=[]\n",
    "lenght=len(testData)\n",
    "timestep=60\n",
    "for i in range(timestep,lenght):\n",
    "    X_test.append(inputClosing_scaled[i-timestep:i,0])\n",
    "X_test = np.array(X_test)\n",
    "X_test=np.reshape(X_test,(X_test.shape[0],X_test.shape[1],1))\n",
    "X_test.shape"
   ]
  },
  {
   "cell_type": "code",
   "execution_count": 93,
   "id": "ff4028ef",
   "metadata": {},
   "outputs": [
    {
     "name": "stdout",
     "output_type": "stream",
     "text": [
      "6/6 [==============================] - 1s 22ms/step\n"
     ]
    },
    {
     "data": {
      "text/plain": [
       "array([[0.76754797],\n",
       "       [0.76445866],\n",
       "       [0.76151943],\n",
       "       [0.7588012 ],\n",
       "       [0.7563339 ],\n",
       "       [0.7540854 ],\n",
       "       [0.7520018 ],\n",
       "       [0.7500403 ],\n",
       "       [0.74819976],\n",
       "       [0.7464892 ],\n",
       "       [0.7448627 ],\n",
       "       [0.7432722 ],\n",
       "       [0.74169725],\n",
       "       [0.7401139 ],\n",
       "       [0.7385411 ],\n",
       "       [0.73700595],\n",
       "       [0.73559403],\n",
       "       [0.73439664],\n",
       "       [0.7334937 ],\n",
       "       [0.7329546 ],\n",
       "       [0.7327424 ],\n",
       "       [0.7328045 ],\n",
       "       [0.73303723],\n",
       "       [0.7333375 ],\n",
       "       [0.7336365 ],\n",
       "       [0.73390687],\n",
       "       [0.7341405 ],\n",
       "       [0.7343114 ],\n",
       "       [0.73435915],\n",
       "       [0.73424447],\n",
       "       [0.7339393 ],\n",
       "       [0.73341453],\n",
       "       [0.7326128 ],\n",
       "       [0.7314848 ],\n",
       "       [0.7300937 ],\n",
       "       [0.7285485 ],\n",
       "       [0.7269527 ],\n",
       "       [0.72539175],\n",
       "       [0.7239436 ],\n",
       "       [0.72262514],\n",
       "       [0.7215034 ],\n",
       "       [0.7206403 ],\n",
       "       [0.72009027],\n",
       "       [0.71988094],\n",
       "       [0.7200092 ],\n",
       "       [0.7204311 ],\n",
       "       [0.72106856],\n",
       "       [0.7218833 ],\n",
       "       [0.7228558 ],\n",
       "       [0.723983  ],\n",
       "       [0.725273  ],\n",
       "       [0.72668993],\n",
       "       [0.72818995],\n",
       "       [0.72972524],\n",
       "       [0.7312767 ],\n",
       "       [0.7328055 ],\n",
       "       [0.7342583 ],\n",
       "       [0.73562646],\n",
       "       [0.7369567 ],\n",
       "       [0.7382968 ],\n",
       "       [0.7397142 ],\n",
       "       [0.741282  ],\n",
       "       [0.74301016],\n",
       "       [0.744853  ],\n",
       "       [0.74673975],\n",
       "       [0.7485987 ],\n",
       "       [0.75040513],\n",
       "       [0.752152  ],\n",
       "       [0.7538413 ],\n",
       "       [0.75546515],\n",
       "       [0.75702   ],\n",
       "       [0.758496  ],\n",
       "       [0.7598597 ],\n",
       "       [0.7610955 ],\n",
       "       [0.7621966 ],\n",
       "       [0.76317143],\n",
       "       [0.76403505],\n",
       "       [0.7648099 ],\n",
       "       [0.7655467 ],\n",
       "       [0.766305  ],\n",
       "       [0.76715386],\n",
       "       [0.7681403 ],\n",
       "       [0.7692686 ],\n",
       "       [0.7705171 ],\n",
       "       [0.7718992 ],\n",
       "       [0.773453  ],\n",
       "       [0.77521   ],\n",
       "       [0.77717197],\n",
       "       [0.7793172 ],\n",
       "       [0.7816083 ],\n",
       "       [0.7840203 ],\n",
       "       [0.7865626 ],\n",
       "       [0.7892553 ],\n",
       "       [0.7920718 ],\n",
       "       [0.7949473 ],\n",
       "       [0.79779774],\n",
       "       [0.8005259 ],\n",
       "       [0.803042  ],\n",
       "       [0.8052851 ],\n",
       "       [0.80725014],\n",
       "       [0.80896604],\n",
       "       [0.81048137],\n",
       "       [0.81185806],\n",
       "       [0.8131412 ],\n",
       "       [0.8143573 ],\n",
       "       [0.815511  ],\n",
       "       [0.81660414],\n",
       "       [0.8176399 ],\n",
       "       [0.818639  ],\n",
       "       [0.81962717],\n",
       "       [0.82063377],\n",
       "       [0.82169354],\n",
       "       [0.8228312 ],\n",
       "       [0.8240757 ],\n",
       "       [0.8254663 ],\n",
       "       [0.8270182 ],\n",
       "       [0.8287369 ],\n",
       "       [0.8306249 ],\n",
       "       [0.8326948 ],\n",
       "       [0.8348138 ],\n",
       "       [0.83679235],\n",
       "       [0.8384507 ],\n",
       "       [0.83968556],\n",
       "       [0.8404584 ],\n",
       "       [0.84075487],\n",
       "       [0.8405788 ],\n",
       "       [0.83994985],\n",
       "       [0.83890975],\n",
       "       [0.83747065],\n",
       "       [0.8356333 ],\n",
       "       [0.8334701 ],\n",
       "       [0.8310994 ],\n",
       "       [0.8286214 ],\n",
       "       [0.8260875 ],\n",
       "       [0.8235439 ],\n",
       "       [0.821032  ],\n",
       "       [0.818573  ],\n",
       "       [0.8161701 ],\n",
       "       [0.81382316],\n",
       "       [0.8115095 ],\n",
       "       [0.80920875],\n",
       "       [0.8068902 ],\n",
       "       [0.8044381 ],\n",
       "       [0.8017632 ],\n",
       "       [0.7987994 ],\n",
       "       [0.7955215 ],\n",
       "       [0.79197085],\n",
       "       [0.7882413 ],\n",
       "       [0.7844384 ],\n",
       "       [0.78066015],\n",
       "       [0.777006  ],\n",
       "       [0.7735543 ],\n",
       "       [0.7703714 ],\n",
       "       [0.7675184 ],\n",
       "       [0.7650357 ],\n",
       "       [0.76295364],\n",
       "       [0.76129866],\n",
       "       [0.76007044],\n",
       "       [0.7592075 ],\n",
       "       [0.75861984],\n",
       "       [0.758211  ],\n",
       "       [0.7579031 ],\n",
       "       [0.7576611 ],\n",
       "       [0.75748974],\n",
       "       [0.7574197 ],\n",
       "       [0.75749636],\n",
       "       [0.7577357 ],\n",
       "       [0.75814617],\n",
       "       [0.75874656],\n",
       "       [0.759553  ],\n",
       "       [0.76057017],\n",
       "       [0.76179576],\n",
       "       [0.7632202 ],\n",
       "       [0.764814  ],\n",
       "       [0.76653683],\n",
       "       [0.76832235],\n",
       "       [0.7701132 ],\n",
       "       [0.7718737 ],\n",
       "       [0.7735686 ],\n",
       "       [0.77516174],\n",
       "       [0.77678627],\n",
       "       [0.77858853],\n",
       "       [0.7806631 ],\n",
       "       [0.78304285],\n",
       "       [0.78570515],\n",
       "       [0.7885756 ],\n",
       "       [0.7915048 ],\n",
       "       [0.7943629 ],\n",
       "       [0.79705346],\n",
       "       [0.7995534 ],\n",
       "       [0.80184853],\n",
       "       [0.80391604]], dtype=float32)"
      ]
     },
     "execution_count": 93,
     "metadata": {},
     "output_type": "execute_result"
    }
   ],
   "source": [
    "y_pred=model.predict(X_test)\n",
    "y_pred"
   ]
  },
  {
   "cell_type": "code",
   "execution_count": 94,
   "id": "8fd7e098",
   "metadata": {},
   "outputs": [],
   "source": [
    "#To plot the data between actual and stock prices\n",
    "predicted_price=sc.inverse_transform(y_pred)"
   ]
  },
  {
   "cell_type": "code",
   "execution_count": 95,
   "id": "1b88cdb0",
   "metadata": {},
   "outputs": [
    {
     "data": {
      "image/png": "[encoded data removed]",
      "text/plain": [
       "<Figure size 640x480 with 1 Axes>"
      ]
     },
     "metadata": {},
     "output_type": "display_data"
    }
   ],
   "source": [
    "plt.plot(y_test,color='red',label='Actual Stock Price')\n",
    "plt.plot(predicted_price,color='green',label='Predicted Stocks Price')\n",
    "plt.title('Google stock price prediction')\n",
    "plt.xlabel('Time')\n",
    "plt.ylabel('Stock Price')\n",
    "plt.legend()\n",
    "plt.show()"
   ]
  }
 ],
 "metadata": {
  "kernelspec": {
   "display_name": "Python 3 (ipykernel)",
   "language": "python",
   "name": "python3"
  },
  "language_info": {
   "codemirror_mode": {
    "name": "ipython",
    "version": 3
   },
   "file_extension": ".py",
   "mimetype": "text/x-python",
   "name": "python",
   "nbconvert_exporter": "python",
   "pygments_lexer": "ipython3",
   "version": "3.11.5"
  }
 },
 "nbformat": 4,
 "nbformat_minor": 5
}
